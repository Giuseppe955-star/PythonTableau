{
 "cells": [
  {
   "cell_type": "code",
   "execution_count": 1,
   "id": "ec744316-57d6-4469-b1e1-261e59ac30bf",
   "metadata": {},
   "outputs": [],
   "source": [
    "import pandas as pd\n",
    "\n",
    "# Import the datasets\n",
    "project_data = pd.read_excel(\"C:/Users/Administrator/Desktop/Downloads/Tableau Business Case Data Analyst July 2024 (1).xlsx\", sheet_name=\"Dataset\")\n",
    "taxonomy = pd.read_excel(\"C:/Users/Administrator/Desktop/Downloads/Tableau Business Case Data Analyst July 2024 (1).xlsx\", sheet_name=\"Taxonomy\")\n",
    "metadata = pd.read_excel(\"C:/Users/Administrator/Desktop/Downloads/Tableau Business Case Data Analyst July 2024 (1).xlsx\", sheet_name=\"Project Metadata\")\n",
    "\n",
    "# Merge project_data with metadata\n",
    "merged_data = project_data.merge(metadata, left_on=\"Project Name\", right_on=\"Project Names\", how=\"left\")\n",
    "\n",
    "# Merge the result with taxonomy\n",
    "final_data = merged_data.merge(taxonomy, on=\"All Interventions\", how=\"left\")\n",
    "\n",
    "# Export the final merged dataset to an Excel file\n",
    "final_data.to_excel(\"merged_data.xlsx\", index=False)\n"
   ]
  },
  {
   "cell_type": "code",
   "execution_count": null,
   "id": "f7e8a109-54fd-4305-8336-5ce3e913ed43",
   "metadata": {},
   "outputs": [],
   "source": []
  }
 ],
 "metadata": {
  "kernelspec": {
   "display_name": "Python 3 (ipykernel)",
   "language": "python",
   "name": "python3"
  },
  "language_info": {
   "codemirror_mode": {
    "name": "ipython",
    "version": 3
   },
   "file_extension": ".py",
   "mimetype": "text/x-python",
   "name": "python",
   "nbconvert_exporter": "python",
   "pygments_lexer": "ipython3",
   "version": "3.11.7"
  }
 },
 "nbformat": 4,
 "nbformat_minor": 5
}
